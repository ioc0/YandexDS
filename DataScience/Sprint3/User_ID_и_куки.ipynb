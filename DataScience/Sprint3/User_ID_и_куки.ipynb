{
 "cells": [
  {
   "cell_type": "markdown",
   "source": [
    "1.\n",
    "Взгляните на присланную разработчиками таблицу. Она называется logs, так как в ней отражены логи — данные о посещениях сайта.\n",
    "В таблице четыре столбца:\n",
    "user_id — идентификатор пользователя;\n",
    "email — электронный адрес подписчика рассылки;\n",
    "source — источник трафика;\n",
    "purchase — факт покупки: со значением 1, если покупка была, 0 — её не было.\n",
    "Каждая строчка в таблице соответствует визиту на сайт. User ID, источник трафика и факт покупки можно получить из Яндекс Метрики, а электронные адреса — из базы тех, кто подписался на email-рассылку. Когда к набору полученных определённым образом данных добавляют информацию из другого источника, это называется обогащение данных.\n",
    "Прочтите содержимое файла logs.csv и сохраните его в датафрейме logs. Ознакомьтесь с данными, вызвав метод head().\n",
    "Путь к файлу: /datasets/logs.csv\n"
   ],
   "metadata": {
    "collapsed": false,
    "pycharm": {
     "name": "#%% md\n"
    }
   },
   "outputs": []
  },
  {
   "cell_type": "code",
   "execution_count": 19,
   "outputs": [
    {
     "data": {
      "text/plain": "      user_id   source       email  purchase\n0  7141786820    other         NaN         0\n1  5644686960    email  c129aa540a         0\n2  1914055396  context         NaN         0\n3  4099355752    other         NaN         0\n4  6032477554  context         NaN         1",
      "text/html": "<div>\n<style scoped>\n    .dataframe tbody tr th:only-of-type {\n        vertical-align: middle;\n    }\n\n    .dataframe tbody tr th {\n        vertical-align: top;\n    }\n\n    .dataframe thead th {\n        text-align: right;\n    }\n</style>\n<table border=\"1\" class=\"dataframe\">\n  <thead>\n    <tr style=\"text-align: right;\">\n      <th></th>\n      <th>user_id</th>\n      <th>source</th>\n      <th>email</th>\n      <th>purchase</th>\n    </tr>\n  </thead>\n  <tbody>\n    <tr>\n      <th>0</th>\n      <td>7141786820</td>\n      <td>other</td>\n      <td>NaN</td>\n      <td>0</td>\n    </tr>\n    <tr>\n      <th>1</th>\n      <td>5644686960</td>\n      <td>email</td>\n      <td>c129aa540a</td>\n      <td>0</td>\n    </tr>\n    <tr>\n      <th>2</th>\n      <td>1914055396</td>\n      <td>context</td>\n      <td>NaN</td>\n      <td>0</td>\n    </tr>\n    <tr>\n      <th>3</th>\n      <td>4099355752</td>\n      <td>other</td>\n      <td>NaN</td>\n      <td>0</td>\n    </tr>\n    <tr>\n      <th>4</th>\n      <td>6032477554</td>\n      <td>context</td>\n      <td>NaN</td>\n      <td>1</td>\n    </tr>\n  </tbody>\n</table>\n</div>"
     },
     "execution_count": 19,
     "metadata": {},
     "output_type": "execute_result"
    }
   ],
   "source": [
    "import pandas as pd\n",
    "logs = pd.read_csv('datasets/logs.csv')\n",
    "logs.head()"
   ],
   "metadata": {
    "collapsed": false,
    "pycharm": {
     "name": "#%%\n"
    }
   }
  },
  {
   "cell_type": "markdown",
   "source": [
    "2.\n",
    "Оцените объём данных в таблице logs.\n",
    "Подсказка\n",
    "Примените к таблице logs метод info()."
   ],
   "metadata": {
    "collapsed": false,
    "pycharm": {
     "name": "#%% md\n"
    }
   },
   "outputs": []
  },
  {
   "cell_type": "code",
   "execution_count": 20,
   "outputs": [
    {
     "name": "stdout",
     "output_type": "stream",
     "text": [
      "<class 'pandas.core.frame.DataFrame'>\n",
      "RangeIndex: 200000 entries, 0 to 199999\n",
      "Data columns (total 4 columns):\n",
      " #   Column    Non-Null Count   Dtype \n",
      "---  ------    --------------   ----- \n",
      " 0   user_id   200000 non-null  int64 \n",
      " 1   source    200000 non-null  object\n",
      " 2   email     13953 non-null   object\n",
      " 3   purchase  200000 non-null  int64 \n",
      "dtypes: int64(2), object(2)\n",
      "memory usage: 6.1+ MB\n",
      "None\n"
     ]
    }
   ],
   "source": [
    "import pandas as pd\n",
    "logs = pd.read_csv('datasets/logs.csv')\n",
    "print(logs.info())"
   ],
   "metadata": {
    "collapsed": false,
    "pycharm": {
     "name": "#%%\n"
    }
   }
  },
  {
   "cell_type": "markdown",
   "source": [
    "3.\n",
    "Посчитайте количество уникальных email и уникальных User ID в таблице logs.\n",
    "Выведите результат на экран в таком виде:\n",
    "Уникальных email: ...\n",
    "Уникальных User ID: ..."
   ],
   "metadata": {
    "collapsed": false,
    "pycharm": {
     "name": "#%% md\n"
    }
   },
   "outputs": []
  },
  {
   "cell_type": "code",
   "execution_count": 21,
   "outputs": [
    {
     "name": "stdout",
     "output_type": "stream",
     "text": [
      "Уникальных email: 6063\n",
      "Уникальных User ID: 86571\n"
     ]
    }
   ],
   "source": [
    "uniq_email = len(logs.email.unique())\n",
    "uniq_userid = len(logs.user_id.unique())\n",
    "print('Уникальных email: {}'.format(uniq_email))\n",
    "print('Уникальных User ID: {}'.format(uniq_userid))"
   ],
   "metadata": {
    "collapsed": false,
    "pycharm": {
     "name": "#%%\n"
    }
   }
  },
  {
   "cell_type": "markdown",
   "source": [
    "4.\n",
    "Методом unique() определите, какие уникальные источники трафика есть в таблице. Результат выведите на экран.\n",
    "Подсказка\n",
    "Примените метод unique() к столбцу 'source' таблицы logs."
   ],
   "metadata": {
    "collapsed": false,
    "pycharm": {
     "name": "#%% md\n"
    }
   },
   "outputs": []
  },
  {
   "cell_type": "code",
   "execution_count": null,
   "outputs": [],
   "source": [
    "print(logs.source.unique())"
   ],
   "metadata": {
    "collapsed": false,
    "pycharm": {
     "name": "#%%\n"
    }
   }
  },
  {
   "cell_type": "code",
   "execution_count": 22,
   "outputs": [
    {
     "name": "stdout",
     "output_type": "stream",
     "text": [
      "['other' 'email' 'context' 'None' 'undef']\n"
     ]
    }
   ],
   "source": [],
   "metadata": {
    "collapsed": false,
    "pycharm": {
     "name": "#%%\n"
    }
   }
  }
 ],
 "metadata": {
  "kernelspec": {
   "display_name": "Python 3",
   "language": "python",
   "name": "python3"
  },
  "language_info": {
   "codemirror_mode": {
    "name": "ipython",
    "version": 2
   },
   "file_extension": ".py",
   "mimetype": "text/x-python",
   "name": "python",
   "nbconvert_exporter": "python",
   "pygments_lexer": "ipython2",
   "version": "2.7.6"
  }
 },
 "nbformat": 4,
 "nbformat_minor": 0
}