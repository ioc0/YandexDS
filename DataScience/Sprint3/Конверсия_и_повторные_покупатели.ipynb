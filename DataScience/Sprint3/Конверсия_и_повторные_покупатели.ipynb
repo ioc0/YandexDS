{
 "cells": [
  {
   "cell_type": "markdown",
   "source": [
    "В бизнесе чем больше потенциальных покупателей, тем лучше. Интернет-проекты привлекают посетителей через различные каналы: рекламу в поисковых системах и соцсетях, email-рассылки. Такие каналы называются источники трафика. Это места, из которых пользователи переходят на сайт.\n",
    "Привлечение пользователей стоит денег. Например, стоимость контекстной рекламы — коммерческих сообщений по теме поискового запроса — складывается из рекламного бюджета и оплаты труда специалистов, подготавливающих объявления. Почтовую рассылку создают маркетологи и дизайнеры, а их усилия тоже не бесплатны.\n",
    "Обычно компании инвестируют в разные источники трафика, и руководители хотят знать, какой из них выгоднее. Аналитикам поручают посчитать соответствующие метрики — показатели, отражающие эффективность действий в бизнесе. Источники трафика обычно сравнивают по конверсии.\n",
    "В широком смысле конверсия — это отношение целевого показателя к общему. Конверсия сайта показывает, какую долю от всех посетителей составляют целевые — те, кто что-нибудь купил или оставил заявку, то есть совершил целевые действия.\n",
    "Вместо посетителей для нахождения конверсии можно считать действия — делить целевые действия на все. Например, число покупок на общее количество визитов. Если зафиксировано 1000 посещений, или визитов, и в 50 из них была совершена покупка, конверсия составит 50 / 1000 * 100% = 5%."
   ],
   "metadata": {
    "collapsed": false,
    "pycharm": {
     "name": "#%% md\n"
    }
   },
   "outputs": []
  },
  {
   "cell_type": "markdown",
   "source": [
    "8.\n",
    "Для каждого источника трафика посчитайте долю повторных покупок — отношение количества повторных ко всем покупкам. Выведите весь датафрейм на экран"
   ],
   "metadata": {
    "collapsed": false,
    "pycharm": {
     "name": "#%% md\n"
    }
   }
  },
  {
   "cell_type": "code",
   "execution_count": 7,
   "outputs": [
    {
     "name": "stdout",
     "output_type": "stream",
     "text": [
      "    source  first  repeated  total  repeated_share\n",
      "0  context   2933        96   3029        0.031694\n",
      "1    email    885       136   1021        0.133203\n",
      "2      smm   1653       139   1792        0.077567\n"
     ]
    }
   ],
   "source": [
    "import pandas as pd\n",
    "purchases = pd.read_csv('returned.csv')\n",
    "purchases['total'] = purchases['first'] + purchases['repeated']\n",
    "purchases['repeated_share'] = purchases['repeated']/purchases['total']\n",
    "print(purchases)"
   ],
   "metadata": {
    "collapsed": false,
    "pycharm": {
     "name": "#%%\n"
    }
   }
  },
  {
   "cell_type": "markdown",
   "source": [
    "9.\n",
    "Постройте рейтинг источников трафика по доле повторных покупок. Отсортируйте датафрейм purchases по убыванию значений столбца 'repeated_share'. Выражение напишите в скобках функции print(), чтобы вывести результат на экран."
   ],
   "metadata": {
    "collapsed": false,
    "pycharm": {
     "name": "#%% md\n"
    }
   },
   "outputs": []
  },
  {
   "cell_type": "code",
   "execution_count": 8,
   "outputs": [
    {
     "name": "stdout",
     "output_type": "stream",
     "text": [
      "    source  first  repeated  total  repeated_share\n",
      "1    email    885       136   1021        0.133203\n",
      "2      smm   1653       139   1792        0.077567\n",
      "0  context   2933        96   3029        0.031694\n"
     ]
    }
   ],
   "source": [
    "import pandas as pd\n",
    "purchases = pd.read_csv('returned.csv')\n",
    "purchases['total'] = purchases['first'] + purchases['repeated']\n",
    "purchases['repeated_share'] = purchases['repeated'] / purchases['total']\n",
    "print(purchases.sort_values(by='repeated_share', ascending=False))"
   ],
   "metadata": {
    "collapsed": false,
    "pycharm": {
     "name": "#%%\n"
    }
   }
  },
  {
   "cell_type": "code",
   "execution_count": 8,
   "outputs": [],
   "source": [],
   "metadata": {
    "collapsed": false,
    "pycharm": {
     "name": "#%%\n"
    }
   }
  }
 ],
 "metadata": {
  "kernelspec": {
   "display_name": "Python 3",
   "language": "python",
   "name": "python3"
  },
  "language_info": {
   "codemirror_mode": {
    "name": "ipython",
    "version": 2
   },
   "file_extension": ".py",
   "mimetype": "text/x-python",
   "name": "python",
   "nbconvert_exporter": "python",
   "pygments_lexer": "ipython2",
   "version": "2.7.6"
  }
 },
 "nbformat": 4,
 "nbformat_minor": 0
}