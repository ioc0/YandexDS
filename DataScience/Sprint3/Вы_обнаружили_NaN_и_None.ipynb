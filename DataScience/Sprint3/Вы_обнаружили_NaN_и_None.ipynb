{
 "cells": [
  {
   "cell_type": "markdown",
   "source": [
    "Вы обнаружили NaN и None\n",
    "В таблице из предыдущего урока вместо источников трафика встречаются значения None, а вместо зашифрованных электронных адресов — NaN. Такие значения указывают, что данных нет. NaN замещает отсутствующее в ячейке число и принадлежит к типу float, поэтому с ним можно проводить математические операции. None относят к нечисловому типу NoneType, и математические операции с ним неосуществимы.\n",
    "Обнаружив строки с None и NaN, не поддавайтесь искушению немедленно их удалить. Иногда пропущенные значения можно взять у разработчиков, ответственных за выгрузку данных. Кроме того, с разными типами пропущенных значений борются по-своему — этому вам и предстоит научиться.\n",
    "Вызвав к столбцу source метод value_counts(), который возвращает уникальные значения и количество их упоминаний, определим, сколько раз источник трафика был пропущен.\n",
    "import pandas as pd\n",
    "logs = pd.read_csv('logs.csv')\n",
    "print(logs['source'].value_counts())\n",
    ">>>\n",
    "other      133834\n",
    "context     52032\n",
    "email       12279\n",
    "None         1674\n",
    "undef         181\n",
    "Name: source, dtype: int64\n",
    "Источник трафика пропущен в 1674 случаях. Это менее 1% от всех значений датафрейма logs, в котором 200 000 строк. Меньше процента — это немного, и в большинстве задач удаление такой доли строк не повлияет на результаты. Но что, если все пропуски сделаны на месте значений 'email'? Тогда, удалив строки с None, мы лишим себя почти 1/7 данных: 1674 / 12279 = 13,6%. Это повлияет на метрики email-рассылок и выводы исследования.\n",
    "image\n",
    "Методом isna() найдём все строки с пропусками в столбце email и просмотрим первые пять.\n",
    "print(logs[logs['email'].isna()].head())\n",
    "      user_id   source email  purchase\n",
    "0  7141786820    other   NaN         0\n",
    "2  1914055396  context   NaN         0\n",
    "3  4099355752    other   NaN         0\n",
    "4  6032477554  context   NaN         1\n",
    "5  5872473344    other   NaN         0\n",
    "Этот код похож на фильтр. Выражение logs['email'].isna() проверяет все строки в столбце email и оставляет только те, в которых есть NaN. Метод head() выводит на экран первые пять строк.\n",
    "Чтобы сосчитать строки без email-адресов, вызовем функцию len().\n",
    "print(len(logs[logs['email'].isna()]))\n",
    "186047\n",
    "В 186 047 строках из 200 000 электронный адрес пропущен. Вполне объяснимо: пользователи регистрируются на сайте неохотно.\n",
    "Тем не менее, пропуски нельзя оставлять без внимания: группировка данных с NaN может привести к некорректным результатам анализа. Удостоверимся на примере присуждения кубка в школе волшебников Хогвартс.\n",
    "Ученики в течение года зарабатывают очки для своих факультетов: Гриффиндора, Слизерина, Пуффендуя и Когтеврана. Кубок школы предназначен факультету, набравшему наибольшее количество баллов. Цена ошибки велика.\n",
    "Изучим таблицу с распределением баллов по факультетам.\n",
    "import pandas as pd\n",
    "hogwarts_points = pd.read_csv('/datasets/hogwarts_points.csv')\n",
    "\n",
    "print(hogwarts_points)\n",
    ">>>\n",
    "\n",
    "faculty_name      student_name  points\n",
    "0   Гриффиндор      Гарри Поттер      15\n",
    "1     Слизерин      Драко Малфой      28\n",
    "2    Когтевран    Полумна Лавгуд      10\n",
    "3          NaN         Рон Уизли       5\n",
    "4    Пуффендуй    Седрик Диггори      17\n",
    "5   Гриффиндор  Невилл Долгопупс      12\n",
    "Методом sum() посчитаем, сколько всего баллов заработали ученики:\n",
    "print(hogwarts_points['points'].sum())\n",
    ">>>\n",
    "\n",
    "87\n",
    "Уточним, сколько очков у каждого факультета. Методом groupby() cформируем таблицу с указанием суммы баллов для каждого значения столбца 'faculty_name':\n",
    "print(hogwarts_points.groupby('faculty_name')['points'].sum())\n",
    ">>>\n",
    "\n",
    " faculty_name\n",
    "Гриффиндор    27\n",
    "Когтевран     10\n",
    "Пуффендуй     17\n",
    "Слизерин      28\n",
    "Name: points, dtype: int64\n",
    "Сложим баллы всех факультетов методом sum():\n",
    "print(hogwarts_points.groupby('faculty_name')['points'].sum().sum())\n",
    ">>>\n",
    "\n",
    "82\n",
    "Количество заработанных учениками баллов (87) не равно количеству очков, начисленных факультетам (82). Всё потому, что у Рона Уизли вместо названия факультета стоит NaN, и при группировке по факультетам баллы Рона не были учтены.\n",
    "Определим победителя. Метод groupby() заменяет стандартные числовые индексы на значения столбца, по которому выполняется группировка, поэтому теперь индексы — это названия факультетов. Вызовем метод idxmax(), чтобы получить индекс элемента — то есть факультет — с наибольшим численным значением.\n",
    "print('Кубок получает', hogwarts_points.groupby('faculty_name')['points'].sum().idxmax())\n",
    ">>> Кубок получает Слизерин\n",
    "Без учёта баллов Рона кубок школы получит Слизерин.\n",
    "Чтобы восстановить справедливость в Хогвартсе, нам нужно научиться заполнять пропуски в данных методом fillna(). Он заменяет все значения NaN на одно и то же новое значение, которое передается как аргумент функции. Давайте заменим все пропущенные email-адреса в таблице logs.csv на тестовый email: example@example.com. Для этого нужно вызвать метод fillna() у таблицы logs и передать в качестве аргумента строку example@example.com. А результат потом сохранить обратно в переменную logs.\n",
    "import pandas as pd\n",
    "logs = pd.read_csv('/datasets/logs.csv')\n",
    "\n",
    "logs = logs.fillna('example@example.com')\n",
    "Теперь посмотрим, как поменялась таблица.\n",
    "print(logs.head())\n",
    "user_id   source                email  purchase\n",
    "0  7141786820    other  example@example.com         0\n",
    "1  5644686960    email           c129aa540a         0\n",
    "2  1914055396  context  example@example.com         0\n",
    "3  4099355752    other  example@example.com         0\n",
    "4  6032477554  context  example@example.com         1\n",
    "Успех! Теперь в таблице кругом одни example-ы. Конечно, в реальной жизни не стоит заменять пропущенные email-адреса на вымышленные, да ещё и одинаковые. В последующих уроках в научитесь делать более тонкие замены, а пока давайте поупражняемся с новыми функциями."
   ],
   "metadata": {
    "collapsed": false,
    "pycharm": {
     "name": "#%% md\n"
    }
   },
   "outputs": []
  },
  {
   "cell_type": "code",
   "execution_count": 55,
   "outputs": [],
   "source": [
    "import pandas as pd"
   ],
   "metadata": {
    "collapsed": false,
    "pycharm": {
     "name": "#%%\n"
    }
   }
  },
  {
   "cell_type": "markdown",
   "source": [
    "1.\n",
    "Восстановите справедливость: верните Рону его факультет, заменив значение NaN на 'Гриффиндор' методом fillna(). Выведите на экран таблицу hogwarts_points."
   ],
   "metadata": {
    "collapsed": false,
    "pycharm": {
     "name": "#%% md\n"
    }
   },
   "outputs": []
  },
  {
   "cell_type": "code",
   "execution_count": 56,
   "outputs": [
    {
     "name": "stdout",
     "output_type": "stream",
     "text": [
      "  faculty_name      student_name  points\n",
      "0   Гриффиндор      Гарри Поттер      15\n",
      "1     Слизерин      Драко Малфой      28\n",
      "2    Когтевран    Полумна Лавгуд      10\n",
      "3   Гриффиндор         Рон Уизли       5\n",
      "4    Пуффендуй    Седрик Диггори      17\n",
      "5   Гриффиндор  Невилл Долгопупс      12\n"
     ]
    }
   ],
   "source": [
    "hogwarts_points = pd.read_csv('datasets/hogwarts_points.csv')\n",
    "hogwarts_points['faculty_name'] = hogwarts_points['faculty_name'].fillna('Гриффиндор')\n",
    "print(hogwarts_points)"
   ],
   "metadata": {
    "collapsed": false,
    "pycharm": {
     "name": "#%%\n"
    }
   }
  },
  {
   "cell_type": "markdown",
   "source": [
    "\n",
    "2.\n",
    "Измените код, чтобы результат приобрёл такой вид:\n",
    "Сумма баллов учеников: # сумма значений столбца 'points'\n",
    "Сумма баллов факультетов: # сумма баллов при группировке по факультетам\n",
    "Кубок получает # название факультета"
   ],
   "metadata": {
    "collapsed": false,
    "pycharm": {
     "name": "#%% md\n"
    }
   },
   "outputs": []
  },
  {
   "cell_type": "code",
   "execution_count": 57,
   "outputs": [
    {
     "name": "stdout",
     "output_type": "stream",
     "text": [
      "Сумма баллов учеников: 87\n",
      "Сумма баллов факультетов: 87\n",
      "Кубок получает Гриффиндор\n"
     ]
    }
   ],
   "source": [
    "print(f'Сумма баллов учеников:', hogwarts_points['points'].sum()) # сумма значений столбца 'points'\n",
    "print('Сумма баллов факультетов:', hogwarts_points.groupby('faculty_name')['points'].sum().sum()) # сгруппируйте по столбцу 'faculty_name'\n",
    "print('Кубок получает',hogwarts_points.groupby('faculty_name')['points'].sum().idxmax())"
   ],
   "metadata": {
    "collapsed": false,
    "pycharm": {
     "name": "#%%\n"
    }
   }
  },
  {
   "cell_type": "markdown",
   "source": [
    "3.\n",
    "Применим полученные в Хогвартсе знания к реальной задаче. Возьмём источники трафика Яндекс.Маркета и рассчитаем конверсию.\n",
    "Найдите количество визитов из каждого источника трафика. Для этого сгруппируйте данные из столбца с идентификаторами пользователей по столбцу с источниками. Результат сохраните в переменной visits и выведите на экран."
   ],
   "metadata": {
    "collapsed": false,
    "pycharm": {
     "name": "#%% md\n"
    }
   }
  },
  {
   "cell_type": "code",
   "execution_count": 58,
   "outputs": [
    {
     "name": "stdout",
     "output_type": "stream",
     "text": [
      "      user_id   source       email  purchase\n",
      "0  7141786820    other         NaN         0\n",
      "1  5644686960    email  c129aa540a         0\n",
      "2  1914055396  context         NaN         0\n",
      "3  4099355752    other         NaN         0\n",
      "4  6032477554  context         NaN         1\n",
      "5  5872473344    other         NaN         0\n",
      "6  7977025176    other         NaN         0\n",
      "7  3512872755    other         NaN         0\n",
      "8  1827368713  context         NaN         0\n",
      "9  8688870165    other         NaN         0\n",
      "source\n",
      "None         1674\n",
      "context     52032\n",
      "email       12279\n",
      "other      133834\n",
      "undef         181\n",
      "Name: user_id, dtype: int64\n"
     ]
    }
   ],
   "source": [
    "import pandas as pd\n",
    "\n",
    "logs = pd.read_csv('datasets/logs.csv')\n",
    "print(logs.head(10))\n",
    "# само задание\n",
    "visits = logs.groupby('source')['user_id'].count()\n",
    "print(visits)"
   ],
   "metadata": {
    "collapsed": false,
    "pycharm": {
     "name": "#%%\n"
    }
   }
  },
  {
   "cell_type": "markdown",
   "source": [
    "4.\n",
    "Посчитайте количество совершённых покупок для каждого источника трафика. Результат сохраните в переменной purchase и выведите на экран."
   ],
   "metadata": {
    "collapsed": false,
    "pycharm": {
     "name": "#%% md\n"
    }
   },
   "outputs": []
  },
  {
   "cell_type": "code",
   "execution_count": null,
   "outputs": [],
   "source": [
    "purchase = logs.groupby('source')['purchase'].sum()\n",
    "print(purchase)"
   ],
   "metadata": {
    "collapsed": false,
    "pycharm": {
     "name": "#%%\n"
    }
   }
  },
  {
   "cell_type": "markdown",
   "source": [
    "5.\n",
    "Посчитайте конверсию по каждому источнику трафика, результат сохраните в переменной conversion и выведите на экран."
   ],
   "metadata": {
    "collapsed": false,
    "pycharm": {
     "name": "#%% md\n"
    }
   },
   "outputs": []
  },
  {
   "cell_type": "code",
   "execution_count": null,
   "outputs": [],
   "source": [
    "conversion = purchase/visits\n",
    "print(conversion)"
   ],
   "metadata": {
    "collapsed": false,
    "pycharm": {
     "name": "#%%\n"
    }
   }
  },
  {
   "cell_type": "markdown",
   "source": [],
   "metadata": {
    "collapsed": false,
    "pycharm": {
     "name": "#%% md\n"
    }
   }
  }
 ],
 "metadata": {
  "kernelspec": {
   "display_name": "Python 3",
   "language": "python",
   "name": "python3"
  },
  "language_info": {
   "codemirror_mode": {
    "name": "ipython",
    "version": 2
   },
   "file_extension": ".py",
   "mimetype": "text/x-python",
   "name": "python",
   "nbconvert_exporter": "python",
   "pygments_lexer": "ipython2",
   "version": "2.7.6"
  }
 },
 "nbformat": 4,
 "nbformat_minor": 0
}